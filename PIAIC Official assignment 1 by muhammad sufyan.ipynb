{
 "cells": [
  {
   "cell_type": "markdown",
   "metadata": {},
   "source": [
    "## 1. Calculate Area of a Circle"
   ]
  },
  {
   "cell_type": "markdown",
   "metadata": {},
   "source": [
    "#### Write a Python program which accepts the radius of a circle from the user and compute the area.\n",
    "###### Program Console Sample Output 1:\n",
    "###### Input Radius: 0.5\n",
    "###### Area of Circle with radius 0.5 is 0.7853981634"
   ]
  },
  {
   "cell_type": "code",
   "execution_count": 2,
   "metadata": {},
   "outputs": [
    {
     "name": "stdout",
     "output_type": "stream",
     "text": [
      "Enter the radius: 0.5\n",
      "Area of Circle with radius 0.5 is 0.78571\n"
     ]
    }
   ],
   "source": [
    "r = float(input(\"Enter the radius: \"))\n",
    "pi = 22/7\n",
    "area = round( pi * r ** 2,5)\n",
    "print(f\"Area of Circle with radius {r} is {area}\")"
   ]
  },
  {
   "cell_type": "code",
   "execution_count": 3,
   "metadata": {},
   "outputs": [
    {
     "name": "stdout",
     "output_type": "stream",
     "text": [
      "Enter the radius: 0.7\n",
      "Area of Circle with radius 0.7 is 1.54\n"
     ]
    }
   ],
   "source": [
    "r = float(input(\"Enter the radius: \"))\n",
    "pi = 22/7\n",
    "area = round( pi * r ** 2,5)\n",
    "print(f\"Area of Circle with radius {r} is {area}\")"
   ]
  },
  {
   "cell_type": "code",
   "execution_count": 4,
   "metadata": {},
   "outputs": [
    {
     "name": "stdout",
     "output_type": "stream",
     "text": [
      "Enter the radius: 2.5\n",
      "Area of Circle with radius 2.5 is 19.64286\n"
     ]
    }
   ],
   "source": [
    "r = float(input(\"Enter the radius: \"))\n",
    "pi = 22/7\n",
    "area = round( pi * r ** 2,5)\n",
    "print(f\"Area of Circle with radius {r} is {area}\")"
   ]
  },
  {
   "cell_type": "markdown",
   "metadata": {},
   "source": [
    "## 2. Check Number either positive, negative or zero"
   ]
  },
  {
   "cell_type": "markdown",
   "metadata": {},
   "source": [
    "#### Write a Python program to check if a number is positive, negative or zero\n",
    "###### Program Console Sample Output 1:\n",
    "###### Enter Number: -1\n",
    "##### Negative Number Entered\n",
    "###### Program Console Sample Output 2:\n",
    "##### Integer: 3\n",
    "##### Positive Number Entered\n",
    "###### Program Console Sample Output 3:\n",
    "##### Integer: 0\n",
    "###### Zero Entered"
   ]
  },
  {
   "cell_type": "code",
   "execution_count": 5,
   "metadata": {},
   "outputs": [
    {
     "name": "stdout",
     "output_type": "stream",
     "text": [
      "Enter the number:  4\n",
      "Positive number entered\n"
     ]
    }
   ],
   "source": [
    "num = int(input(\"Enter the number:  \"))\n",
    "if num > 0:\n",
    "    print(\"Positive number entered\")\n",
    "elif num < 0:\n",
    "    print(\"Negative number entered\")\n",
    "else :\n",
    "    print(\"zero entered\")"
   ]
  },
  {
   "cell_type": "code",
   "execution_count": 6,
   "metadata": {},
   "outputs": [
    {
     "name": "stdout",
     "output_type": "stream",
     "text": [
      "Enter the number:  -6\n",
      "Negative number entered\n"
     ]
    }
   ],
   "source": [
    "num = int(input(\"Enter the number:  \"))\n",
    "if num > 0:\n",
    "    print(\"Positive number entered\")\n",
    "elif num < 0:\n",
    "    print(\"Negative number entered\")\n",
    "else :\n",
    "    print(\"zero entered\")"
   ]
  },
  {
   "cell_type": "code",
   "execution_count": 7,
   "metadata": {},
   "outputs": [
    {
     "name": "stdout",
     "output_type": "stream",
     "text": [
      "Enter the number:  0\n",
      "zero entered\n"
     ]
    }
   ],
   "source": [
    "num = int(input(\"Enter the number:  \"))\n",
    "if num > 0:\n",
    "    print(\"Positive number entered\")\n",
    "elif num < 0:\n",
    "    print(\"Negative number entered\")\n",
    "else :\n",
    "    print(\"zero entered\")"
   ]
  },
  {
   "cell_type": "code",
   "execution_count": null,
   "metadata": {},
   "outputs": [],
   "source": []
  },
  {
   "cell_type": "markdown",
   "metadata": {},
   "source": [
    "## 3. Divisibility Check of two numbers"
   ]
  },
  {
   "cell_type": "markdown",
   "metadata": {},
   "source": [
    "#### Write a Python program to check whether a number is completely divisible by another number. Accept two integer values form the user\n",
    "##### Program Console Sample Output 1:\n",
    "###### Enter numerator: 4\n",
    "###### Enter Denominator: 2\n",
    "##### Number 4 is Completely divisible by 2\n",
    "###### Program Console Sample Output 2:\n",
    "##### Enter numerator: 7\n",
    "\n",
    "##### Enter Denominator: 4\n",
    "###### Number 7 is not Completely divisible by 4"
   ]
  },
  {
   "cell_type": "code",
   "execution_count": 10,
   "metadata": {},
   "outputs": [
    {
     "name": "stdout",
     "output_type": "stream",
     "text": [
      "Enter the numerator: 4\n",
      "Enter the denomenator: 2\n",
      "number 4 is completely divisible by number 2\n"
     ]
    }
   ],
   "source": [
    "num = int(input(\"Enter the numerator: \"))\n",
    "num_2 = int(input(\"Enter the denomenator: \"))\n",
    "if num%num_2 == 0:\n",
    "    print(f\"number {num} is completely divisible by number {num_2}\")\n",
    "else :\n",
    "    print(f\"number {num} is not completely divisible by {num_2}\")"
   ]
  },
  {
   "cell_type": "code",
   "execution_count": 11,
   "metadata": {},
   "outputs": [
    {
     "name": "stdout",
     "output_type": "stream",
     "text": [
      "Enter the numerator: 5\n",
      "Enter the denomenator: 2\n",
      "number 5 is not completely divisible by 2\n"
     ]
    }
   ],
   "source": [
    "num = int(input(\"Enter the numerator: \"))\n",
    "num_2 = int(input(\"Enter the denomenator: \"))\n",
    "if num%num_2 == 0:\n",
    "    print(f\"number {num} is completely divisible by number {num_2}\")\n",
    "else :\n",
    "    print(f\"number {num} is not completely divisible by {num_2}\")"
   ]
  },
  {
   "cell_type": "code",
   "execution_count": 12,
   "metadata": {},
   "outputs": [
    {
     "name": "stdout",
     "output_type": "stream",
     "text": [
      "Enter the numerator: 0\n",
      "Enter the denomenator: 6\n",
      "number 0 is completely divisible by number 6\n"
     ]
    }
   ],
   "source": [
    "num = int(input(\"Enter the numerator: \"))\n",
    "num_2 = int(input(\"Enter the denomenator: \"))\n",
    "if num%num_2 == 0:\n",
    "    print(f\"number {num} is completely divisible by number {num_2}\")\n",
    "else :\n",
    "    print(f\"number {num} is not completely divisible by {num_2}\")"
   ]
  },
  {
   "cell_type": "code",
   "execution_count": null,
   "metadata": {},
   "outputs": [],
   "source": []
  },
  {
   "cell_type": "code",
   "execution_count": null,
   "metadata": {},
   "outputs": [],
   "source": []
  },
  {
   "cell_type": "code",
   "execution_count": null,
   "metadata": {},
   "outputs": [],
   "source": []
  },
  {
   "cell_type": "markdown",
   "metadata": {},
   "source": [
    "## 4. Calculate Volume of a sphere"
   ]
  },
  {
   "cell_type": "markdown",
   "metadata": {},
   "source": [
    "##### Write a Python program to get the volume of a sphere, please take the radius as input from user"
   ]
  },
  {
   "cell_type": "markdown",
   "metadata": {},
   "source": [
    "##### Program Console Output:\n",
    "##### Enter Radius of Sphere: 1\n",
    "###### Volume of the Sphere with Radius 1 is 4.18"
   ]
  },
  {
   "cell_type": "code",
   "execution_count": 15,
   "metadata": {},
   "outputs": [
    {
     "name": "stdout",
     "output_type": "stream",
     "text": [
      "Enter the number: 1\n",
      "volume of sphere with radius 1 is 4.19\n"
     ]
    }
   ],
   "source": [
    "radius = int(input(\"Enter the number: \"))\n",
    "pi = 22/7\n",
    "volume = round((4/3)*pi*radius**3,3)\n",
    "print(f\"volume of sphere with radius {radius} is {volume}\")"
   ]
  },
  {
   "cell_type": "code",
   "execution_count": 16,
   "metadata": {},
   "outputs": [
    {
     "name": "stdout",
     "output_type": "stream",
     "text": [
      "Enter the number: 3\n",
      "volume of sphere with radius 3 is 113.143\n"
     ]
    }
   ],
   "source": [
    "radius = int(input(\"Enter the number: \"))\n",
    "pi = 22/7\n",
    "volume = round((4/3)*pi*radius**3,3)\n",
    "print(f\"volume of sphere with radius {radius} is {volume}\")"
   ]
  },
  {
   "cell_type": "code",
   "execution_count": null,
   "metadata": {},
   "outputs": [],
   "source": []
  },
  {
   "cell_type": "code",
   "execution_count": null,
   "metadata": {},
   "outputs": [],
   "source": []
  },
  {
   "cell_type": "code",
   "execution_count": null,
   "metadata": {},
   "outputs": [],
   "source": []
  },
  {
   "cell_type": "markdown",
   "metadata": {},
   "source": [
    "## 5. Copy string n times\n",
    "#### Write a Python program to get a string which is n (non-negative integer) copies of a given string.\n",
    "##### Program Console Output:\n",
    "##### Enter String: Hi\n",
    "###### How many copies of String you need: 4\n",
    "###### 4 Copies of Hi are HiHiHiHi"
   ]
  },
  {
   "cell_type": "code",
   "execution_count": 5,
   "metadata": {},
   "outputs": [
    {
     "name": "stdout",
     "output_type": "stream",
     "text": [
      "Enter string: Hi\n",
      "How many copies of String you need: 4\n",
      "The 4 copies of Hi are HiHiHiHi\n"
     ]
    }
   ],
   "source": [
    "string = input(\"Enter string: \")\n",
    "quantity = int(input(\"How many copies of String you need: \"))\n",
    "copies = quantity*string\n",
    "print(f\"The {quantity} copies of {string} are {copies}\")"
   ]
  },
  {
   "cell_type": "code",
   "execution_count": 6,
   "metadata": {},
   "outputs": [
    {
     "name": "stdout",
     "output_type": "stream",
     "text": [
      "Enter string: Bye\n",
      "How many copies of String you need: 5\n",
      "The 5 copies of Bye are ByeByeByeByeBye\n"
     ]
    }
   ],
   "source": [
    "string = input(\"Enter string: \")\n",
    "quantity = int(input(\"How many copies of String you need: \"))\n",
    "copies = quantity*string\n",
    "print(f\"The {quantity} copies of {string} are {copies}\")"
   ]
  },
  {
   "cell_type": "code",
   "execution_count": null,
   "metadata": {},
   "outputs": [],
   "source": []
  },
  {
   "cell_type": "code",
   "execution_count": null,
   "metadata": {},
   "outputs": [],
   "source": []
  },
  {
   "cell_type": "code",
   "execution_count": null,
   "metadata": {},
   "outputs": [],
   "source": []
  },
  {
   "cell_type": "markdown",
   "metadata": {},
   "source": [
    "## 6. Check if number is Even or Odd\n",
    "### Write a Python program to find whether a given number (accept from the user) is even or odd, print out an appropriate message to the user\n",
    "#### Program Console Output 1:\n",
    "##### Enter Number: 4\n",
    "###### 4 is Even\n",
    "#### Program Console Output 2:\n",
    "##### Enter Number: 9\n",
    "###### 9 is Odd"
   ]
  },
  {
   "cell_type": "code",
   "execution_count": 7,
   "metadata": {},
   "outputs": [
    {
     "name": "stdout",
     "output_type": "stream",
     "text": [
      "Enter the number: 4\n",
      "The number 4 is Even \n"
     ]
    }
   ],
   "source": [
    "n = int(input(\"Enter the number: \"))\n",
    "if n%2 == 0:\n",
    "    print(f\"The number {n} is Even \")\n",
    "else:\n",
    "    print(f\"The number {n} is Odd \")"
   ]
  },
  {
   "cell_type": "code",
   "execution_count": 8,
   "metadata": {},
   "outputs": [
    {
     "name": "stdout",
     "output_type": "stream",
     "text": [
      "Enter the number: 3\n",
      "The number 3 is Odd \n"
     ]
    }
   ],
   "source": [
    "n = int(input(\"Enter the number: \"))\n",
    "if n%2 == 0:\n",
    "    print(f\"The number {n} is Even \")\n",
    "else:\n",
    "    print(f\"The number {n} is Odd \")"
   ]
  },
  {
   "cell_type": "code",
   "execution_count": null,
   "metadata": {},
   "outputs": [],
   "source": []
  },
  {
   "cell_type": "code",
   "execution_count": null,
   "metadata": {},
   "outputs": [],
   "source": []
  },
  {
   "cell_type": "code",
   "execution_count": null,
   "metadata": {},
   "outputs": [],
   "source": []
  },
  {
   "cell_type": "markdown",
   "metadata": {},
   "source": [
    "## 7. Vowel Tester\n",
    "### Write a Python program to test whether a passed letter is a vowel or not\n",
    "#### Program Console Output 1:\n",
    "##### Enter a character: A\n",
    "###### Letter A is Vowel\n",
    "#### Program Console Output 2:\n",
    "##### Enter a character: e\n",
    "###### Letter e is Vowel\n",
    "#### Program Console Output 2:\n",
    "##### Enter a character: N\n",
    "###### Letter N is not Vowel"
   ]
  },
  {
   "cell_type": "code",
   "execution_count": 17,
   "metadata": {},
   "outputs": [
    {
     "name": "stdout",
     "output_type": "stream",
     "text": [
      "Enter any alphabet: A\n",
      "the letterA is a vowel\n"
     ]
    }
   ],
   "source": [
    "v = input(\"Enter any alphabet: \")\n",
    "if (v.upper() == 'A') or (v.upper() == 'E') or (v.upper() == 'I') or (v.upper() == 'I') or (v.upper() == 'U'):\n",
    "    print(f\"the letter{v} is a vowel\")\n",
    "else:\n",
    "    print(f\"the letter {v} is a consonant\")"
   ]
  },
  {
   "cell_type": "code",
   "execution_count": 19,
   "metadata": {},
   "outputs": [
    {
     "name": "stdout",
     "output_type": "stream",
     "text": [
      "Enter any alphabet: e\n",
      "the lettere is a vowel\n"
     ]
    }
   ],
   "source": [
    "v = input(\"Enter any alphabet: \")\n",
    "if (v.upper() == 'A') or (v.upper() == 'E') or (v.upper() == 'I') or (v.upper() == 'I') or (v.upper() == 'U'):\n",
    "    print(f\"the letter{v} is a vowel\")\n",
    "else:\n",
    "    print(f\"the letter {v} is a consonant\")"
   ]
  },
  {
   "cell_type": "code",
   "execution_count": 20,
   "metadata": {},
   "outputs": [
    {
     "name": "stdout",
     "output_type": "stream",
     "text": [
      "Enter any alphabet: N\n",
      "the letter N is a consonant\n"
     ]
    }
   ],
   "source": [
    "v = input(\"Enter any alphabet: \")\n",
    "if (v.upper() == 'A') or (v.upper() == 'E') or (v.upper() == 'I') or (v.upper() == 'I') or (v.upper() == 'U'):\n",
    "    print(f\"the letter{v} is a vowel\")\n",
    "else:\n",
    "    print(f\"the letter {v} is a consonant\")\n",
    "    "
   ]
  },
  {
   "cell_type": "code",
   "execution_count": 21,
   "metadata": {},
   "outputs": [
    {
     "name": "stdout",
     "output_type": "stream",
     "text": [
      "Enter any alphabet: s\n",
      "the letter s is a consonant\n"
     ]
    }
   ],
   "source": [
    "v = input(\"Enter any alphabet: \")\n",
    "if (v.upper() == 'A') or (v.upper() == 'E') or (v.upper() == 'I') or (v.upper() == 'I') or (v.upper() == 'U'):\n",
    "    print(f\"the letter{v} is a vowel\")\n",
    "else:\n",
    "    print(f\"the letter {v} is a consonant\")"
   ]
  },
  {
   "cell_type": "markdown",
   "metadata": {},
   "source": [
    "## 8. Triangle area\n",
    "### Write a Python program that will accept the base and height of a triangle and compute the area\n",
    "###### Reference:\n",
    "https://www.mathgoodies.com/lessons/vol1/area_triangle"
   ]
  },
  {
   "cell_type": "code",
   "execution_count": 22,
   "metadata": {},
   "outputs": [
    {
     "name": "stdout",
     "output_type": "stream",
     "text": [
      "Enter the base: 4\n",
      "Enter the height: 5\n",
      "The area of triangle is 10.0\n"
     ]
    }
   ],
   "source": [
    "b = int(input(\"Enter the base: \"))\n",
    "h = int(input(\"Enter the height: \"))\n",
    "area = (1/2)*b*h\n",
    "print (f\"The area of triangle is {area}\")"
   ]
  },
  {
   "cell_type": "code",
   "execution_count": 23,
   "metadata": {},
   "outputs": [
    {
     "name": "stdout",
     "output_type": "stream",
     "text": [
      "Enter the base: 0.5\n",
      "Enter the height: 2.4\n",
      "The area of triangle is 0.6\n"
     ]
    }
   ],
   "source": [
    "b = float(input(\"Enter the base: \"))\n",
    "h = float(input(\"Enter the height: \"))\n",
    "area = (1/2)*b*h\n",
    "print (f\"The area of triangle is {area}\")"
   ]
  },
  {
   "cell_type": "code",
   "execution_count": null,
   "metadata": {},
   "outputs": [],
   "source": []
  },
  {
   "cell_type": "code",
   "execution_count": null,
   "metadata": {},
   "outputs": [],
   "source": []
  },
  {
   "cell_type": "markdown",
   "metadata": {},
   "source": [
    "## 9. Calculate Interest\n",
    "### Write a Python program to compute the future value of a specified principal amount, rate of interest, and a number of years\n",
    "#### Program Console Sample 1:\n",
    "##### Please enter principal amount: 10000\n",
    "###### Please Enter Rate of interest in %: 0.1\n",
    "###### Enter number of years for investment: 5\n",
    "###### After 5 years your principal amount 10000 over an interest rate of 0.1 % will be 16105.1"
   ]
  },
  {
   "cell_type": "code",
   "execution_count": 21,
   "metadata": {},
   "outputs": [
    {
     "name": "stdout",
     "output_type": "stream",
     "text": [
      "Enter the principal amount: 10000\n",
      "Enter the rate of interest in %: 0.1\n",
      "Enter the number of years for investment: 5\n",
      "After 5 years your principal amount 10000 over an interest rate of 0.1% will be 15000.0\n"
     ]
    }
   ],
   "source": [
    "#Simple interest = principal * rate * time    \n",
    "#Amount after __ years = Simple interest + Principal\n",
    "p = int(input(\"Enter the principal amount: \"))   \n",
    "r = float(input(\"Enter the rate of interest in %: \"))\n",
    "t = int(input(\"Enter the number of years for investment: \"))\n",
    "I = (p*r*t)\n",
    "A = I + p\n",
    "print(f\"After {t} years your principal amount {p} over an interest rate of {r}% will be {A}\")"
   ]
  },
  {
   "cell_type": "code",
   "execution_count": 18,
   "metadata": {},
   "outputs": [
    {
     "name": "stdout",
     "output_type": "stream",
     "text": [
      "Enter the principal amount: 10000\n",
      "Enter the rate of interest in %: 0.1\n",
      "Enter the number of years for investment: 5\n",
      "After 5 years your principal amount 10000 over an interest rate of 0.1% will be 16105.1\n"
     ]
    }
   ],
   "source": [
    "#compound interest = principal * (1 + rate*time) ** time\n",
    "#amount = principal + compound interest\n",
    "p = int(input(\"Enter the principal amount: \"))\n",
    "r = float(input(\"Enter the rate of interest in %: \"))\n",
    "t = int(input(\"Enter the number of years for investment: \"))\n",
    "I = r*100\n",
    "A = p * ((1+ (I/100)) ** t)\n",
    "A = round(A,3)\n",
    "print(f\"After {t} years your principal amount {p} over an interest rate of {r}% will be {A}\")"
   ]
  },
  {
   "cell_type": "code",
   "execution_count": 22,
   "metadata": {},
   "outputs": [
    {
     "name": "stdout",
     "output_type": "stream",
     "text": [
      "Enter the principal amount: 50000\n",
      "Enter the rate of interest in %: 0.17\n",
      "Enter the number of years for investment: 5\n",
      "After 5 years your principal amount 50000 over an interest rate of 0.17% will be 109622.402\n"
     ]
    }
   ],
   "source": [
    "p = int(input(\"Enter the principal amount: \"))\n",
    "r = float(input(\"Enter the rate of interest in %: \"))\n",
    "t = int(input(\"Enter the number of years for investment: \"))\n",
    "I = r*100\n",
    "A = p * ((1+ (I/100)) ** t)\n",
    "A = round(A,3)\n",
    "print(f\"After {t} years your principal amount {p} over an interest rate of {r}% will be {A}\")"
   ]
  },
  {
   "cell_type": "code",
   "execution_count": 23,
   "metadata": {},
   "outputs": [
    {
     "name": "stdout",
     "output_type": "stream",
     "text": [
      "Enter the principal amount: 100000\n",
      "Enter the rate of interest in %: 0.17\n",
      "Enter the number of years for investment: 5\n",
      "After 5 years your principal amount 100000 over an interest rate of 0.17% will be 185000.0\n"
     ]
    }
   ],
   "source": [
    "#Simple interest = principal * rate * time    \n",
    "#Amount after __ years = Simple interest + Principal\n",
    "p = int(input(\"Enter the principal amount: \"))\n",
    "r = float(input(\"Enter the rate of interest in %: \"))\n",
    "t = int(input(\"Enter the number of years for investment: \"))\n",
    "I = (p*r*t)\n",
    "A = I + p\n",
    "print(f\"After {t} years your principal amount {p} over an interest rate of {r}% will be {A}\")"
   ]
  },
  {
   "cell_type": "code",
   "execution_count": null,
   "metadata": {},
   "outputs": [],
   "source": []
  },
  {
   "cell_type": "code",
   "execution_count": null,
   "metadata": {},
   "outputs": [],
   "source": []
  },
  {
   "cell_type": "markdown",
   "metadata": {},
   "source": [
    "## 10. Euclidean distance\n",
    "### write a Python program to compute the distance between the points (x1, y1) and (x2, y2).\n",
    "#### Program Console Sample 1:\n",
    "###### Enter Co-ordinate for x1: 2\n",
    "###### Enter Co-ordinate for x2: 4\n",
    "###### Enter Co-ordinate for y1: 4\n",
    "###### Enter Co-ordinate for y2: 4\n",
    "###### Distance between points (2, 4) and (4, 4) is 2"
   ]
  },
  {
   "cell_type": "markdown",
   "metadata": {},
   "source": [
    "###### Reference:\n",
    "https://en.wikipedia.org/wiki/Euclidean_distance"
   ]
  },
  {
   "cell_type": "code",
   "execution_count": 25,
   "metadata": {},
   "outputs": [
    {
     "name": "stdout",
     "output_type": "stream",
     "text": [
      "Enter Co-ordinate for x1: 2\n",
      "Enter Co-ordinate for x2: 4\n",
      "Enter Co-ordinate for y1: 4\n",
      "Enter Co-ordinate for y2: 4\n",
      "Distance between points (2, 4) and (4, 4) is 2.0\n"
     ]
    }
   ],
   "source": [
    "x1 = int(input(\"Enter Co-ordinate for x1: \"))\n",
    "x2 = int(input(\"Enter Co-ordinate for x2: \"))\n",
    "y1 = int(input(\"Enter Co-ordinate for y1: \"))\n",
    "y2 = int(input(\"Enter Co-ordinate for y2: \"))\n",
    "distance = ((x2 - x1)**2 + (y2 - y1)**2) ** 1/2\n",
    "print(f\"Distance between points {x1,x2} and {y1,y2} is {distance}\")"
   ]
  },
  {
   "cell_type": "code",
   "execution_count": 26,
   "metadata": {},
   "outputs": [
    {
     "name": "stdout",
     "output_type": "stream",
     "text": [
      "Enter Co-ordinate for x1: 2\n",
      "Enter Co-ordinate for x2: 4\n",
      "Enter Co-ordinate for y1: 6\n",
      "Enter Co-ordinate for y2: 3\n",
      "Distance between points (2, 4) and (6, 3) is 6.5\n"
     ]
    }
   ],
   "source": [
    "x1 = int(input(\"Enter Co-ordinate for x1: \"))\n",
    "x2 = int(input(\"Enter Co-ordinate for x2: \"))\n",
    "y1 = int(input(\"Enter Co-ordinate for y1: \"))\n",
    "y2 = int(input(\"Enter Co-ordinate for y2: \"))\n",
    "distance = ((x2 - x1)**2 + (y2 - y1)**2) ** 1/2\n",
    "print(f\"Distance between points {x1,x2} and {y1,y2} is {distance}\")"
   ]
  },
  {
   "cell_type": "code",
   "execution_count": null,
   "metadata": {},
   "outputs": [],
   "source": []
  },
  {
   "cell_type": "code",
   "execution_count": null,
   "metadata": {},
   "outputs": [],
   "source": []
  },
  {
   "cell_type": "markdown",
   "metadata": {},
   "source": [
    "## 11. Feet to Centimeter Converter\n",
    "### Write a Python program to convert height in feet to centimetres.\n",
    "##### Program Console Sample 1:\n",
    "###### Enter Height in Feet: 5\n",
    "###### There are 152.4 Cm in 5 ft\n",
    "###### Reference:\n",
    "https://www.rapidtables.com/convert/length/feet-to-cm.html"
   ]
  },
  {
   "cell_type": "code",
   "execution_count": 28,
   "metadata": {},
   "outputs": [
    {
     "name": "stdout",
     "output_type": "stream",
     "text": [
      "Enter height in Feet: 5\n",
      "The height of 5ft is 152.4 cm\n"
     ]
    }
   ],
   "source": [
    "height = int(input(\"Enter height in Feet: \"))\n",
    "conversion = height * 30.48\n",
    "print(f\"The height of {height}ft is {conversion} cm\")"
   ]
  },
  {
   "cell_type": "code",
   "execution_count": 34,
   "metadata": {},
   "outputs": [
    {
     "name": "stdout",
     "output_type": "stream",
     "text": [
      "Enter height in Feet: 5.9\n",
      "The height of 5.9ft is 179.832 cm\n"
     ]
    }
   ],
   "source": [
    "height = float(input(\"Enter height in Feet: \"))\n",
    "conversion = round(height * 30.48,3)\n",
    "print(f\"The height of {height}ft is {conversion} cm\")"
   ]
  },
  {
   "cell_type": "code",
   "execution_count": null,
   "metadata": {},
   "outputs": [],
   "source": []
  },
  {
   "cell_type": "code",
   "execution_count": null,
   "metadata": {},
   "outputs": [],
   "source": []
  },
  {
   "cell_type": "markdown",
   "metadata": {},
   "source": [
    "## 12. BMI Calculator\n",
    "### Write a Python program to calculate body mass index\n",
    "##### Program Console Sample 1:\n",
    "###### Enter Height in Cm: 180\n",
    "###### Enter Weight in Kg: 75\n",
    "###### Your BMI is 23.15"
   ]
  },
  {
   "cell_type": "code",
   "execution_count": 42,
   "metadata": {},
   "outputs": [
    {
     "name": "stdout",
     "output_type": "stream",
     "text": [
      "Enter Height in cm: 180\n",
      "Enter Weight in kg: 75\n",
      "Your BMI is  23.15\n"
     ]
    }
   ],
   "source": [
    "height = int(input(\"Enter Height in cm: \"))\n",
    "weight = int(input(\"Enter Weight in kg: \"))\n",
    "bmi = round(weight / (height*0.01)**2,2)      #to convert cm into m * by o.01\n",
    "print(\"Your BMI is \",bmi)"
   ]
  },
  {
   "cell_type": "code",
   "execution_count": null,
   "metadata": {},
   "outputs": [],
   "source": []
  },
  {
   "cell_type": "code",
   "execution_count": null,
   "metadata": {},
   "outputs": [],
   "source": []
  },
  {
   "cell_type": "markdown",
   "metadata": {},
   "source": [
    "## 13. Sum of n Positive Integers\n",
    "### Write a python program to sum of the first n positive integers\n",
    "#### Program Console Sample 1:\n",
    "###### Enter value of n: 5\n",
    "###### Sum of n Positive integers till 5 is 15"
   ]
  },
  {
   "cell_type": "code",
   "execution_count": 45,
   "metadata": {},
   "outputs": [
    {
     "name": "stdout",
     "output_type": "stream",
     "text": [
      "Enter value of n: 5\n",
      "Sum of n positive integers till 5 is 15.0\n"
     ]
    }
   ],
   "source": [
    "n = int(input(\"Enter value of n: \"))\n",
    "calc = n * (n+1)/2\n",
    "print(f\"Sum of n positive integers till {n} is {calc}\")"
   ]
  },
  {
   "cell_type": "code",
   "execution_count": null,
   "metadata": {},
   "outputs": [],
   "source": []
  },
  {
   "cell_type": "code",
   "execution_count": null,
   "metadata": {},
   "outputs": [],
   "source": []
  },
  {
   "cell_type": "markdown",
   "metadata": {},
   "source": [
    "## 14. Digits Sum of a Number\n",
    "### Write a Python program to calculate the sum of the digits in an integer\n",
    "#### Program Console Sample 1:\n",
    "##### Enter a number: 15\n",
    "###### Sum of 1 + 5 is 6\n",
    "#### Program Console Sample 2:\n",
    "##### Enter a number: 1234\n",
    "###### Sum of 1 + 2 + 3 + 4 is 10"
   ]
  },
  {
   "cell_type": "code",
   "execution_count": 2,
   "metadata": {},
   "outputs": [
    {
     "name": "stdout",
     "output_type": "stream",
     "text": [
      "Enter a number: 15\n",
      "Sum of 1 + 5 is  6\n"
     ]
    }
   ],
   "source": [
    "num = int(input(\"Enter a number: \"))\n",
    "result = 0\n",
    "while num > 0:\n",
    "    num1 = num%10\n",
    "    result = result + num1\n",
    "    num = num//10\n",
    "print(f\"Sum of 1 + 5 is \",result)\n",
    "    "
   ]
  },
  {
   "cell_type": "code",
   "execution_count": 6,
   "metadata": {},
   "outputs": [
    {
     "name": "stdout",
     "output_type": "stream",
     "text": [
      "Enter a number: 1234\n",
      "Sum of 1 + 2 + 3 + 4 is  10\n"
     ]
    }
   ],
   "source": [
    "num = int(input(\"Enter a number: \"))\n",
    "result = 0\n",
    "while num > 0:\n",
    "    num1 = num%10\n",
    "    result = result + num1\n",
    "    num = num//10\n",
    "print(f\"Sum of 1 + 2 + 3 + 4 is \",result)"
   ]
  },
  {
   "cell_type": "code",
   "execution_count": 7,
   "metadata": {},
   "outputs": [
    {
     "name": "stdout",
     "output_type": "stream",
     "text": [
      "Enter a number: 1125\n",
      "Sum of 11 + 25 is  36\n"
     ]
    }
   ],
   "source": [
    "num = int(input(\"Enter a number: \"))  # for double numbers like 11,12,13\n",
    "result = 0\n",
    "while num > 0:\n",
    "    num1 = num%100\n",
    "    result = result + num1\n",
    "    num = num//100\n",
    "print(f\"Sum of 11 + 25 is \",result)"
   ]
  },
  {
   "cell_type": "code",
   "execution_count": 8,
   "metadata": {},
   "outputs": [
    {
     "name": "stdout",
     "output_type": "stream",
     "text": [
      "Enter a number: 123456\n",
      "Sum of 123 + 456 is  579\n"
     ]
    }
   ],
   "source": [
    "num = int(input(\"Enter a number: \"))       # for 3 digit like 123,456\n",
    "result = 0\n",
    "while num > 0:\n",
    "    num1 = num%1000\n",
    "    result = result + num1\n",
    "    num = num//1000\n",
    "print(f\"Sum of 123 + 456 is \",result)"
   ]
  },
  {
   "cell_type": "code",
   "execution_count": null,
   "metadata": {},
   "outputs": [],
   "source": []
  },
  {
   "cell_type": "code",
   "execution_count": null,
   "metadata": {},
   "outputs": [],
   "source": []
  },
  {
   "cell_type": "code",
   "execution_count": null,
   "metadata": {},
   "outputs": [],
   "source": []
  },
  {
   "cell_type": "code",
   "execution_count": null,
   "metadata": {},
   "outputs": [],
   "source": []
  }
 ],
 "metadata": {
  "kernelspec": {
   "display_name": "Python 3",
   "language": "python",
   "name": "python3"
  },
  "language_info": {
   "codemirror_mode": {
    "name": "ipython",
    "version": 3
   },
   "file_extension": ".py",
   "mimetype": "text/x-python",
   "name": "python",
   "nbconvert_exporter": "python",
   "pygments_lexer": "ipython3",
   "version": "3.7.3"
  }
 },
 "nbformat": 4,
 "nbformat_minor": 2
}
