{
 "cells": [
  {
   "cell_type": "code",
   "execution_count": 4,
   "metadata": {},
   "outputs": [
    {
     "name": "stdout",
     "output_type": "stream",
     "text": [
      "Enter your name: Muhammad Sufyan\n",
      "English: 78\n",
      "Maths: 89\n",
      "Physics: 87\n",
      "Urdu: 78\n",
      "Islamiat:88\n",
      "you obtained marks :  420\n",
      "your grade is A+\n",
      "your percentage is:  84.0 %\n"
     ]
    }
   ],
   "source": [
    "name = input(\"Enter your name: \")\n",
    "sub_1 = int(input(\"English: \"))\n",
    "sub_2 = int(input(\"Maths: \"))\n",
    "sub_3 = int (input(\"Physics: \"))\n",
    "sub_4 = int (input(\"Urdu: \"))\n",
    "sub_5 = int(input(\"Islamiat:\"))\n",
    "marks = sub_1 + sub_2 + sub_3 + sub_4 + sub_5\n",
    "avg = (sub_1 + sub_2 + sub_3 + sub_4 + sub_5)/5\n",
    "if avg >= 80 :\n",
    "    print(\"you obtained marks : \",marks)\n",
    "    print(\"your grade is A+\")\n",
    "    print(\"your percentage is: \",avg,\"%\")\n",
    "elif avg >= 70:\n",
    "    print(\"you obtained marks : \",marks)\n",
    "    print (\"your grade is A\")\n",
    "    print(\"your percentage is : \",avg,\"%\")\n",
    "elif avg >= 60:\n",
    "    print(\"you obtained marks : \",marks)\n",
    "    print(\"your grade is B.\")\n",
    "    print (\"your percentage is : \",avg,\"%\")"
   ]
  },
  {
   "cell_type": "code",
   "execution_count": null,
   "metadata": {},
   "outputs": [],
   "source": []
  }
 ],
 "metadata": {
  "kernelspec": {
   "display_name": "Python 3",
   "language": "python",
   "name": "python3"
  },
  "language_info": {
   "codemirror_mode": {
    "name": "ipython",
    "version": 3
   },
   "file_extension": ".py",
   "mimetype": "text/x-python",
   "name": "python",
   "nbconvert_exporter": "python",
   "pygments_lexer": "ipython3",
   "version": "3.7.3"
  }
 },
 "nbformat": 4,
 "nbformat_minor": 2
}
